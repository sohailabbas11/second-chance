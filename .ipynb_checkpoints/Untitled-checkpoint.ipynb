{
 "cells": [
  {
   "cell_type": "code",
   "execution_count": 1,
   "id": "2d740e7a",
   "metadata": {},
   "outputs": [
    {
     "name": "stdout",
     "output_type": "stream",
     "text": [
      "            Date       Open       High        Low      Close  Adj Close  \\\n",
      "0     1992-06-26   0.328125   0.347656   0.320313   0.335938   0.260703   \n",
      "1     1992-06-29   0.339844   0.367188   0.332031   0.359375   0.278891   \n",
      "2     1992-06-30   0.367188   0.371094   0.343750   0.347656   0.269797   \n",
      "3     1992-07-01   0.351563   0.359375   0.339844   0.355469   0.275860   \n",
      "4     1992-07-02   0.359375   0.359375   0.347656   0.355469   0.275860   \n",
      "...          ...        ...        ...        ...        ...        ...   \n",
      "8031  2024-05-17  75.269997  78.000000  74.919998  77.849998  77.849998   \n",
      "8032  2024-05-20  77.680000  78.320000  76.709999  77.540001  77.540001   \n",
      "8033  2024-05-21  77.559998  78.220001  77.500000  77.720001  77.720001   \n",
      "8034  2024-05-22  77.699997  81.019997  77.440002  80.720001  80.720001   \n",
      "8035  2024-05-23  80.099998  80.699997  79.169998  79.260002  79.260002   \n",
      "\n",
      "         Volume  \n",
      "0     224358400  \n",
      "1      58732800  \n",
      "2      34777600  \n",
      "3      18316800  \n",
      "4      13996800  \n",
      "...         ...  \n",
      "8031   14436500  \n",
      "8032   11183800  \n",
      "8033    8916600  \n",
      "8034   22063400  \n",
      "8035    4651418  \n",
      "\n",
      "[8036 rows x 7 columns]\n"
     ]
    }
   ],
   "source": [
    "import pandas as pd \n",
    "\n",
    "df = pd.read_csv('StarbucksDataset.csv')\n",
    "print(df)"
   ]
  },
  {
   "cell_type": "code",
   "execution_count": null,
   "id": "1a5a8601",
   "metadata": {},
   "outputs": [],
   "source": []
  }
 ],
 "metadata": {
  "kernelspec": {
   "display_name": "Python 3 (ipykernel)",
   "language": "python",
   "name": "python3"
  },
  "language_info": {
   "codemirror_mode": {
    "name": "ipython",
    "version": 3
   },
   "file_extension": ".py",
   "mimetype": "text/x-python",
   "name": "python",
   "nbconvert_exporter": "python",
   "pygments_lexer": "ipython3",
   "version": "3.11.7"
  }
 },
 "nbformat": 4,
 "nbformat_minor": 5
}
